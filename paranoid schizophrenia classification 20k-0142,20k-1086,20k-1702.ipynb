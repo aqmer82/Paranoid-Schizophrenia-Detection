{
 "cells": [
  {
   "cell_type": "code",
   "execution_count": 3,
   "id": "cf6a33f1",
   "metadata": {},
   "outputs": [
    {
     "name": "stdout",
     "output_type": "stream",
     "text": [
      "Collecting mne\n",
      "  Downloading mne-1.2.3-py3-none-any.whl (7.6 MB)\n",
      "Requirement already satisfied: packaging in c:\\users\\aqmer\\anaconda3\\lib\\site-packages (from mne) (21.0)\n",
      "Requirement already satisfied: decorator in c:\\users\\aqmer\\anaconda3\\lib\\site-packages (from mne) (5.1.0)\n",
      "Requirement already satisfied: numpy>=1.15.4 in c:\\users\\aqmer\\anaconda3\\lib\\site-packages (from mne) (1.20.3)\n",
      "Requirement already satisfied: tqdm in c:\\users\\aqmer\\anaconda3\\lib\\site-packages (from mne) (4.62.3)\n",
      "Collecting pooch>=1.5\n",
      "  Downloading pooch-1.6.0-py3-none-any.whl (56 kB)\n",
      "Requirement already satisfied: scipy>=1.1.0 in c:\\users\\aqmer\\anaconda3\\lib\\site-packages (from mne) (1.7.1)\n",
      "Requirement already satisfied: jinja2 in c:\\users\\aqmer\\anaconda3\\lib\\site-packages (from mne) (2.11.3)\n",
      "Requirement already satisfied: matplotlib in c:\\users\\aqmer\\anaconda3\\lib\\site-packages (from mne) (3.4.3)\n",
      "Requirement already satisfied: appdirs>=1.3.0 in c:\\users\\aqmer\\anaconda3\\lib\\site-packages (from pooch>=1.5->mne) (1.4.4)\n",
      "Requirement already satisfied: requests>=2.19.0 in c:\\users\\aqmer\\anaconda3\\lib\\site-packages (from pooch>=1.5->mne) (2.26.0)\n",
      "Requirement already satisfied: pyparsing>=2.0.2 in c:\\users\\aqmer\\anaconda3\\lib\\site-packages (from packaging->mne) (3.0.4)\n",
      "Requirement already satisfied: idna<4,>=2.5 in c:\\users\\aqmer\\anaconda3\\lib\\site-packages (from requests>=2.19.0->pooch>=1.5->mne) (3.2)\n",
      "Requirement already satisfied: urllib3<1.27,>=1.21.1 in c:\\users\\aqmer\\anaconda3\\lib\\site-packages (from requests>=2.19.0->pooch>=1.5->mne) (1.26.7)\n",
      "Requirement already satisfied: certifi>=2017.4.17 in c:\\users\\aqmer\\anaconda3\\lib\\site-packages (from requests>=2.19.0->pooch>=1.5->mne) (2021.10.8)\n",
      "Requirement already satisfied: charset-normalizer~=2.0.0 in c:\\users\\aqmer\\anaconda3\\lib\\site-packages (from requests>=2.19.0->pooch>=1.5->mne) (2.0.4)\n",
      "Requirement already satisfied: MarkupSafe>=0.23 in c:\\users\\aqmer\\anaconda3\\lib\\site-packages (from jinja2->mne) (1.1.1)\n",
      "Requirement already satisfied: cycler>=0.10 in c:\\users\\aqmer\\anaconda3\\lib\\site-packages (from matplotlib->mne) (0.10.0)\n",
      "Requirement already satisfied: kiwisolver>=1.0.1 in c:\\users\\aqmer\\anaconda3\\lib\\site-packages (from matplotlib->mne) (1.3.1)\n",
      "Requirement already satisfied: pillow>=6.2.0 in c:\\users\\aqmer\\anaconda3\\lib\\site-packages (from matplotlib->mne) (8.4.0)\n",
      "Requirement already satisfied: python-dateutil>=2.7 in c:\\users\\aqmer\\anaconda3\\lib\\site-packages (from matplotlib->mne) (2.8.2)\n",
      "Requirement already satisfied: six in c:\\users\\aqmer\\anaconda3\\lib\\site-packages (from cycler>=0.10->matplotlib->mne) (1.16.0)\n",
      "Requirement already satisfied: colorama in c:\\users\\aqmer\\anaconda3\\lib\\site-packages (from tqdm->mne) (0.4.4)\n",
      "Installing collected packages: pooch, mne\n",
      "Successfully installed mne-1.2.3 pooch-1.6.0\n"
     ]
    }
   ],
   "source": [
    "#!pip3 install -U tensorflow"
   ]
  },
  {
   "cell_type": "code",
   "execution_count": 40,
   "id": "80764c5f",
   "metadata": {},
   "outputs": [],
   "source": [
    "import os\n",
    "import mne\n",
    "import numpy as np\n",
    "import tensorflow\n",
    "import pandas as pd\n",
    "import matplotlib.pyplot as plt\n",
    "from glob import glob\n",
    "import warnings\n",
    "warnings.filterwarnings('ignore')"
   ]
  },
  {
   "cell_type": "code",
   "execution_count": 8,
   "id": "a58003ec",
   "metadata": {},
   "outputs": [],
   "source": [
    "all_files_path=glob('Downloads\\dataverse_files\\*.edf')\n"
   ]
  },
  {
   "cell_type": "code",
   "execution_count": 10,
   "id": "d745fbb6",
   "metadata": {},
   "outputs": [
    {
     "name": "stdout",
     "output_type": "stream",
     "text": [
      "14 14\n"
     ]
    }
   ],
   "source": [
    "healthy_file_path=[i for i in all_files_path if 'h' in i.split('\\\\')[2]]\n",
    "patient_file_path=[i for i in all_files_path if 's' in i.split('\\\\')[2]]\n",
    "print(len(healthy_file_path),len(patient_file_path))"
   ]
  },
  {
   "cell_type": "code",
   "execution_count": 13,
   "id": "dc22c34b",
   "metadata": {},
   "outputs": [],
   "source": [
    "def read_data(file_path):\n",
    "    data=mne.io.read_raw_edf(file_path,preload=True)\n",
    "    data.set_eeg_reference()\n",
    "    data.filter(l_freq=0.5,h_freq=45)\n",
    "    epochs=mne.make_fixed_length_epochs(data,duration=5,overlap=1)\n",
    "    array=epochs.get_data()\n",
    "    return array"
   ]
  },
  {
   "cell_type": "code",
   "execution_count": 14,
   "id": "73c42573",
   "metadata": {},
   "outputs": [],
   "source": [
    "%%capture\n",
    "control_epochs_array=[read_data(i) for i in healthy_file_path]\n",
    "patient_epochs_array=[read_data(i) for i in patient_file_path]"
   ]
  },
  {
   "cell_type": "code",
   "execution_count": 19,
   "id": "1fca80e7",
   "metadata": {},
   "outputs": [],
   "source": [
    "control_epochs_labels=[len(i)*[0] for i in control_epochs_array]\n",
    "patient_epochs_labels=[len(i)*[1] for i in patient_epochs_array]"
   ]
  },
  {
   "cell_type": "code",
   "execution_count": 20,
   "id": "63bb711d",
   "metadata": {},
   "outputs": [],
   "source": [
    "data_list=patient_epochs_array+control_epochs_array"
   ]
  },
  {
   "cell_type": "code",
   "execution_count": 21,
   "id": "4e11a301",
   "metadata": {},
   "outputs": [],
   "source": [
    "label_list=control_epochs_labels+patient_epochs_labels"
   ]
  },
  {
   "cell_type": "code",
   "execution_count": 22,
   "id": "c7c19ac3",
   "metadata": {},
   "outputs": [],
   "source": [
    "group_list=[[i]*len(j) for i,j in enumerate(data_list)]"
   ]
  },
  {
   "cell_type": "code",
   "execution_count": 23,
   "id": "2d7f7638",
   "metadata": {},
   "outputs": [
    {
     "name": "stdout",
     "output_type": "stream",
     "text": [
      "(7201, 19, 1250) (7201,) (7201,)\n"
     ]
    }
   ],
   "source": [
    "data_array=np.vstack(data_list)\n",
    "label_array=np.hstack(label_list)\n",
    "group_array=np.hstack(group_list)\n",
    "print(data_array.shape,label_array.shape,group_array.shape)"
   ]
  },
  {
   "cell_type": "markdown",
   "id": "643795e7",
   "metadata": {},
   "source": [
    "features of data"
   ]
  },
  {
   "cell_type": "code",
   "execution_count": 24,
   "id": "d2d8e433",
   "metadata": {},
   "outputs": [],
   "source": [
    "from scipy import stats\n",
    "def mean(data):\n",
    "    return np.mean(data,axis=-1)\n",
    "    \n",
    "def std(data):\n",
    "    return np.std(data,axis=-1)\n",
    "\n",
    "def ptp(data):\n",
    "    return np.ptp(data,axis=-1)\n",
    "\n",
    "def var(data):\n",
    "        return np.var(data,axis=-1)\n",
    "\n",
    "def minim(data):\n",
    "      return np.min(data,axis=-1)\n",
    "\n",
    "\n",
    "def maxim(data):\n",
    "      return np.max(data,axis=-1)\n",
    "\n",
    "def argminim(data):\n",
    "      return np.argmin(data,axis=-1)\n",
    "\n",
    "\n",
    "def argmaxim(data):\n",
    "      return np.argmax(data,axis=-1)\n",
    "\n",
    "def mean_square(data):\n",
    "      return np.mean(data**2,axis=-1)\n",
    "\n",
    "def rms(data): #root mean square\n",
    "      return  np.sqrt(np.mean(data**2,axis=-1))  \n",
    "\n",
    "def abs_diffs_signal(data):\n",
    "    return np.sum(np.abs(np.diff(data,axis=-1)),axis=-1)\n",
    "\n",
    "\n",
    "def skewness(data):\n",
    "    return stats.skew(data,axis=-1)\n",
    "\n",
    "def kurtosis(data):\n",
    "    return stats.kurtosis(data,axis=-1)\n",
    "\n",
    "def concatenate_features(data):\n",
    "    return np.concatenate((mean(data),std(data),ptp(data),var(data),minim(data),maxim(data),argminim(data),argmaxim(data),\n",
    "                          mean_square(data),rms(data),abs_diffs_signal(data),\n",
    "                          skewness(data),kurtosis(data)),axis=-1)"
   ]
  },
  {
   "cell_type": "code",
   "execution_count": 25,
   "id": "dff5b3f9",
   "metadata": {},
   "outputs": [],
   "source": [
    "features=[]\n",
    "for d in data_array:\n",
    "    features.append(concatenate_features(d))"
   ]
  },
  {
   "cell_type": "code",
   "execution_count": 26,
   "id": "9ac1abb3",
   "metadata": {},
   "outputs": [],
   "source": [
    "features_array=np.array(features)"
   ]
  },
  {
   "cell_type": "markdown",
   "id": "535fa3a8",
   "metadata": {},
   "source": [
    "# classification through ml"
   ]
  },
  {
   "cell_type": "code",
   "execution_count": 27,
   "id": "6e5f3f63",
   "metadata": {},
   "outputs": [],
   "source": [
    "from sklearn.linear_model import LogisticRegression\n",
    "from sklearn.pipeline import Pipeline\n",
    "from sklearn.preprocessing import StandardScaler\n",
    "from sklearn.model_selection import GroupKFold,GridSearchCV,cross_val_score,cross_validate"
   ]
  },
  {
   "cell_type": "code",
   "execution_count": 55,
   "id": "d1882c4a",
   "metadata": {},
   "outputs": [
    {
     "data": {
      "text/plain": [
       "GridSearchCV(cv=GroupKFold(n_splits=5),\n",
       "             estimator=Pipeline(steps=[('scaler', StandardScaler()),\n",
       "                                       ('clf', LogisticRegression())]),\n",
       "             n_jobs=2,\n",
       "             param_grid={'clf__C': [0.1, 0.3, 0.5, 0.7, 0.8, 1.0, 3, 5, 6, 7, 8,\n",
       "                                    11, 13, 15, 20]})"
      ]
     },
     "execution_count": 55,
     "metadata": {},
     "output_type": "execute_result"
    }
   ],
   "source": [
    "model=LogisticRegression()\n",
    "gkf=GroupKFold(5)\n",
    "pipe=Pipeline([('scaler',StandardScaler()),('clf',model)])\n",
    "param_grid={'clf__C':[0.1,0.3,0.5,0.7,0.8,1.0,3,5,6,7,8,11,13,15,20]}\n",
    "gscv=GridSearchCV(pipe,param_grid,cv=gkf,n_jobs=2)\n",
    "gscv.fit(features,label_array,groups=group_array)"
   ]
  },
  {
   "cell_type": "code",
   "execution_count": 56,
   "id": "2844fa0a",
   "metadata": {},
   "outputs": [
    {
     "name": "stdout",
     "output_type": "stream",
     "text": [
      "62.337295204929745\n"
     ]
    }
   ],
   "source": [
    "accuracy=gscv.best_score_*100\n",
    "print(accuracy)"
   ]
  },
  {
   "cell_type": "markdown",
   "id": "68092318",
   "metadata": {},
   "source": [
    "# classification through dl"
   ]
  },
  {
   "cell_type": "code",
   "execution_count": 32,
   "id": "13099a40",
   "metadata": {},
   "outputs": [
    {
     "data": {
      "text/plain": [
       "(7201, 1250, 19)"
      ]
     },
     "execution_count": 32,
     "metadata": {},
     "output_type": "execute_result"
    }
   ],
   "source": [
    "data_array=np.moveaxis(data_array,2,1)#keras cnn expects channels as third parameter\n",
    "data_array.shape"
   ]
  },
  {
   "cell_type": "code",
   "execution_count": 33,
   "id": "bcfec0a8",
   "metadata": {},
   "outputs": [],
   "source": [
    "from tensorflow.keras.layers import Conv1D,BatchNormalization,LeakyReLU,MaxPool1D,GlobalAveragePooling1D,Dense,Dropout,AveragePooling1D\n",
    "from tensorflow.keras.models import Sequential\n",
    "from tensorflow.keras.backend import clear_session"
   ]
  },
  {
   "cell_type": "code",
   "execution_count": 34,
   "id": "852ba0cd",
   "metadata": {
    "scrolled": false
   },
   "outputs": [
    {
     "name": "stdout",
     "output_type": "stream",
     "text": [
      "Model: \"sequential\"\n",
      "_________________________________________________________________\n",
      " Layer (type)                Output Shape              Param #   \n",
      "=================================================================\n",
      " conv1d (Conv1D)             (None, 1248, 5)           290       \n",
      "                                                                 \n",
      " batch_normalization (BatchN  (None, 1248, 5)          20        \n",
      " ormalization)                                                   \n",
      "                                                                 \n",
      " leaky_re_lu (LeakyReLU)     (None, 1248, 5)           0         \n",
      "                                                                 \n",
      " max_pooling1d (MaxPooling1D  (None, 624, 5)           0         \n",
      " )                                                               \n",
      "                                                                 \n",
      " conv1d_1 (Conv1D)           (None, 622, 5)            80        \n",
      "                                                                 \n",
      " leaky_re_lu_1 (LeakyReLU)   (None, 622, 5)            0         \n",
      "                                                                 \n",
      " max_pooling1d_1 (MaxPooling  (None, 311, 5)           0         \n",
      " 1D)                                                             \n",
      "                                                                 \n",
      " dropout (Dropout)           (None, 311, 5)            0         \n",
      "                                                                 \n",
      " conv1d_2 (Conv1D)           (None, 309, 5)            80        \n",
      "                                                                 \n",
      " leaky_re_lu_2 (LeakyReLU)   (None, 309, 5)            0         \n",
      "                                                                 \n",
      " average_pooling1d (AverageP  (None, 154, 5)           0         \n",
      " ooling1D)                                                       \n",
      "                                                                 \n",
      " dropout_1 (Dropout)         (None, 154, 5)            0         \n",
      "                                                                 \n",
      " conv1d_3 (Conv1D)           (None, 152, 5)            80        \n",
      "                                                                 \n",
      " leaky_re_lu_3 (LeakyReLU)   (None, 152, 5)            0         \n",
      "                                                                 \n",
      " average_pooling1d_1 (Averag  (None, 76, 5)            0         \n",
      " ePooling1D)                                                     \n",
      "                                                                 \n",
      " conv1d_4 (Conv1D)           (None, 74, 5)             80        \n",
      "                                                                 \n",
      " leaky_re_lu_4 (LeakyReLU)   (None, 74, 5)             0         \n",
      "                                                                 \n",
      " global_average_pooling1d (G  (None, 5)                0         \n",
      " lobalAveragePooling1D)                                          \n",
      "                                                                 \n",
      " dense (Dense)               (None, 1)                 6         \n",
      "                                                                 \n",
      "=================================================================\n",
      "Total params: 636\n",
      "Trainable params: 626\n",
      "Non-trainable params: 10\n",
      "_________________________________________________________________\n"
     ]
    }
   ],
   "source": [
    "\n",
    "def cnnmodel():\n",
    "    clear_session()\n",
    "    model=Sequential()\n",
    "    model.add(Conv1D(filters=5,kernel_size=3,strides=1,input_shape=(1250,19)))#1\n",
    "    model.add(BatchNormalization())\n",
    "    model.add(LeakyReLU())\n",
    "    model.add(MaxPool1D(pool_size=2,strides=2))#2\n",
    "    model.add(Conv1D(filters=5,kernel_size=3,strides=1))#3\n",
    "    model.add(LeakyReLU())\n",
    "    model.add(MaxPool1D(pool_size=2,strides=2))#4\n",
    "    model.add(Dropout(0.5))\n",
    "    model.add(Conv1D(filters=5,kernel_size=3,strides=1))#5\n",
    "    model.add(LeakyReLU())\n",
    "    model.add(AveragePooling1D(pool_size=2,strides=2))#6\n",
    "    model.add(Dropout(0.5))\n",
    "    model.add(Conv1D(filters=5,kernel_size=3,strides=1))#7\n",
    "    model.add(LeakyReLU())\n",
    "    model.add(AveragePooling1D(pool_size=2,strides=2))#8\n",
    "    model.add(Conv1D(filters=5,kernel_size=3,strides=1))#9\n",
    "    model.add(LeakyReLU())\n",
    "    model.add(GlobalAveragePooling1D())#10\n",
    "    model.add(Dense(1,activation='sigmoid'))#11\n",
    "    \n",
    "    model.compile('adam',loss='binary_crossentropy',metrics=['accuracy'])\n",
    "    return model\n",
    "\n",
    "model=cnnmodel()\n",
    "model.summary()"
   ]
  },
  {
   "cell_type": "code",
   "execution_count": 35,
   "id": "3df012c4",
   "metadata": {},
   "outputs": [],
   "source": [
    "\n",
    "gkf=GroupKFold()"
   ]
  },
  {
   "cell_type": "code",
   "execution_count": 65,
   "id": "871b22ea",
   "metadata": {},
   "outputs": [
    {
     "name": "stdout",
     "output_type": "stream",
     "text": [
      "Epoch 1/12\n",
      "45/45 [==============================] - 3s 48ms/step - loss: 0.6861 - accuracy: 0.5437 - val_loss: 0.8245 - val_accuracy: 0.0000e+00\n",
      "Epoch 2/12\n",
      "45/45 [==============================] - 2s 43ms/step - loss: 0.6743 - accuracy: 0.5660 - val_loss: 0.8236 - val_accuracy: 0.0000e+00\n",
      "Epoch 3/12\n",
      "45/45 [==============================] - 2s 43ms/step - loss: 0.6628 - accuracy: 0.5660 - val_loss: 0.7876 - val_accuracy: 0.0110\n",
      "Epoch 4/12\n",
      "45/45 [==============================] - 2s 43ms/step - loss: 0.6313 - accuracy: 0.6196 - val_loss: 0.7328 - val_accuracy: 0.7351\n",
      "Epoch 5/12\n",
      "45/45 [==============================] - 2s 43ms/step - loss: 0.5352 - accuracy: 0.7679 - val_loss: 0.5723 - val_accuracy: 0.8037\n",
      "Epoch 6/12\n",
      "45/45 [==============================] - 2s 45ms/step - loss: 0.4754 - accuracy: 0.7853 - val_loss: 0.8748 - val_accuracy: 0.7392\n",
      "Epoch 7/12\n",
      "45/45 [==============================] - 2s 49ms/step - loss: 0.4356 - accuracy: 0.8134 - val_loss: 0.7896 - val_accuracy: 0.7831\n",
      "Epoch 8/12\n",
      "45/45 [==============================] - 2s 49ms/step - loss: 0.4131 - accuracy: 0.8320 - val_loss: 0.9747 - val_accuracy: 0.7282\n",
      "Epoch 9/12\n",
      "45/45 [==============================] - 2s 53ms/step - loss: 0.4016 - accuracy: 0.8334 - val_loss: 1.1845 - val_accuracy: 0.6609\n",
      "Epoch 10/12\n",
      "45/45 [==============================] - 2s 51ms/step - loss: 0.3912 - accuracy: 0.8424 - val_loss: 1.4692 - val_accuracy: 0.5504\n",
      "Epoch 11/12\n",
      "45/45 [==============================] - 2s 47ms/step - loss: 0.3730 - accuracy: 0.8545 - val_loss: 1.2928 - val_accuracy: 0.6575\n",
      "Epoch 12/12\n",
      "45/45 [==============================] - 2s 43ms/step - loss: 0.3671 - accuracy: 0.8503 - val_loss: 1.4287 - val_accuracy: 0.6054\n",
      "46/46 [==============================] - 0s 6ms/step - loss: 1.4287 - accuracy: 0.6054\n",
      "Epoch 1/12\n",
      "45/45 [==============================] - 4s 61ms/step - loss: 0.6816 - accuracy: 0.5704 - val_loss: 0.7530 - val_accuracy: 0.4624\n",
      "Epoch 2/12\n",
      "45/45 [==============================] - 2s 49ms/step - loss: 0.6721 - accuracy: 0.5708 - val_loss: 0.7518 - val_accuracy: 0.4624\n",
      "Epoch 3/12\n",
      "45/45 [==============================] - 2s 49ms/step - loss: 0.6557 - accuracy: 0.5723 - val_loss: 0.7617 - val_accuracy: 0.4638\n",
      "Epoch 4/12\n",
      "45/45 [==============================] - 2s 45ms/step - loss: 0.6080 - accuracy: 0.6515 - val_loss: 0.7411 - val_accuracy: 0.5931\n",
      "Epoch 5/12\n",
      "45/45 [==============================] - 2s 50ms/step - loss: 0.5234 - accuracy: 0.7867 - val_loss: 0.7316 - val_accuracy: 0.6493\n",
      "Epoch 6/12\n",
      "45/45 [==============================] - 2s 54ms/step - loss: 0.4553 - accuracy: 0.8220 - val_loss: 0.8707 - val_accuracy: 0.5931\n",
      "Epoch 7/12\n",
      "45/45 [==============================] - 2s 53ms/step - loss: 0.4062 - accuracy: 0.8443 - val_loss: 1.3602 - val_accuracy: 0.4705\n",
      "Epoch 8/12\n",
      "45/45 [==============================] - 2s 53ms/step - loss: 0.3794 - accuracy: 0.8592 - val_loss: 1.2098 - val_accuracy: 0.4922\n",
      "Epoch 9/12\n",
      "45/45 [==============================] - 2s 51ms/step - loss: 0.3759 - accuracy: 0.8569 - val_loss: 1.9705 - val_accuracy: 0.4645\n",
      "Epoch 10/12\n",
      "45/45 [==============================] - 2s 49ms/step - loss: 0.3508 - accuracy: 0.8716 - val_loss: 1.9262 - val_accuracy: 0.4672\n",
      "Epoch 11/12\n",
      "45/45 [==============================] - 2s 45ms/step - loss: 0.3523 - accuracy: 0.8725 - val_loss: 1.8445 - val_accuracy: 0.4672\n",
      "Epoch 12/12\n",
      "45/45 [==============================] - 2s 43ms/step - loss: 0.3338 - accuracy: 0.8788 - val_loss: 1.9197 - val_accuracy: 0.4705\n",
      "47/47 [==============================] - 0s 5ms/step - loss: 1.9197 - accuracy: 0.4705\n",
      "Epoch 1/12\n",
      "47/47 [==============================] - 4s 48ms/step - loss: 0.6884 - accuracy: 0.5451 - val_loss: 0.6924 - val_accuracy: 0.5665\n",
      "Epoch 2/12\n",
      "47/47 [==============================] - 2s 45ms/step - loss: 0.6724 - accuracy: 0.5786 - val_loss: 0.6926 - val_accuracy: 0.6499\n",
      "Epoch 3/12\n",
      "47/47 [==============================] - 2s 46ms/step - loss: 0.6204 - accuracy: 0.6904 - val_loss: 0.6702 - val_accuracy: 0.6685\n",
      "Epoch 4/12\n",
      "47/47 [==============================] - 2s 42ms/step - loss: 0.5255 - accuracy: 0.7745 - val_loss: 0.6898 - val_accuracy: 0.7527\n",
      "Epoch 5/12\n",
      "47/47 [==============================] - 2s 42ms/step - loss: 0.4397 - accuracy: 0.8278 - val_loss: 0.7166 - val_accuracy: 0.7844\n",
      "Epoch 6/12\n",
      "47/47 [==============================] - 2s 42ms/step - loss: 0.3991 - accuracy: 0.8334 - val_loss: 0.7713 - val_accuracy: 0.6994\n",
      "Epoch 7/12\n",
      "47/47 [==============================] - 2s 43ms/step - loss: 0.3657 - accuracy: 0.8488 - val_loss: 0.7881 - val_accuracy: 0.7488\n",
      "Epoch 8/12\n",
      "47/47 [==============================] - 2s 42ms/step - loss: 0.3398 - accuracy: 0.8642 - val_loss: 0.8743 - val_accuracy: 0.6561\n",
      "Epoch 9/12\n",
      "47/47 [==============================] - 2s 41ms/step - loss: 0.3388 - accuracy: 0.8666 - val_loss: 0.7391 - val_accuracy: 0.7658\n",
      "Epoch 10/12\n",
      "47/47 [==============================] - 2s 42ms/step - loss: 0.3286 - accuracy: 0.8727 - val_loss: 0.7822 - val_accuracy: 0.7473\n",
      "Epoch 11/12\n",
      "47/47 [==============================] - 2s 43ms/step - loss: 0.3145 - accuracy: 0.8769 - val_loss: 0.8112 - val_accuracy: 0.7821\n",
      "Epoch 12/12\n",
      "47/47 [==============================] - 2s 42ms/step - loss: 0.3075 - accuracy: 0.8778 - val_loss: 0.8195 - val_accuracy: 0.8091\n",
      "41/41 [==============================] - 0s 5ms/step - loss: 0.8195 - accuracy: 0.8091\n",
      "Epoch 1/12\n",
      "45/45 [==============================] - 3s 47ms/step - loss: 0.6886 - accuracy: 0.5429 - val_loss: 0.6856 - val_accuracy: 0.5703\n",
      "Epoch 2/12\n",
      "45/45 [==============================] - 2s 42ms/step - loss: 0.6733 - accuracy: 0.5429 - val_loss: 0.6845 - val_accuracy: 0.5703\n",
      "Epoch 3/12\n",
      "45/45 [==============================] - 2s 41ms/step - loss: 0.6395 - accuracy: 0.6162 - val_loss: 0.6562 - val_accuracy: 0.6826\n",
      "Epoch 4/12\n",
      "45/45 [==============================] - 2s 42ms/step - loss: 0.5755 - accuracy: 0.7088 - val_loss: 0.6122 - val_accuracy: 0.7673\n",
      "Epoch 5/12\n",
      "45/45 [==============================] - 2s 41ms/step - loss: 0.5342 - accuracy: 0.7412 - val_loss: 0.5588 - val_accuracy: 0.6126\n",
      "Epoch 6/12\n",
      "45/45 [==============================] - 2s 42ms/step - loss: 0.5015 - accuracy: 0.7623 - val_loss: 0.6286 - val_accuracy: 0.5730\n",
      "Epoch 7/12\n",
      "45/45 [==============================] - 2s 44ms/step - loss: 0.4802 - accuracy: 0.7847 - val_loss: 0.5791 - val_accuracy: 0.5931\n",
      "Epoch 8/12\n",
      "45/45 [==============================] - 2s 43ms/step - loss: 0.4606 - accuracy: 0.7916 - val_loss: 0.6091 - val_accuracy: 0.5837\n",
      "Epoch 9/12\n",
      "45/45 [==============================] - 2s 42ms/step - loss: 0.4507 - accuracy: 0.8031 - val_loss: 0.6622 - val_accuracy: 0.5689\n",
      "Epoch 10/12\n",
      "45/45 [==============================] - 2s 44ms/step - loss: 0.4314 - accuracy: 0.8255 - val_loss: 0.5867 - val_accuracy: 0.6207\n",
      "Epoch 11/12\n",
      "45/45 [==============================] - 2s 42ms/step - loss: 0.4381 - accuracy: 0.8154 - val_loss: 0.5800 - val_accuracy: 0.6100\n",
      "Epoch 12/12\n",
      "45/45 [==============================] - 2s 41ms/step - loss: 0.4104 - accuracy: 0.8215 - val_loss: 0.5975 - val_accuracy: 0.7626\n",
      "47/47 [==============================] - 0s 5ms/step - loss: 0.5975 - accuracy: 0.7626\n",
      "Epoch 1/12\n",
      "45/45 [==============================] - 3s 47ms/step - loss: 0.7044 - accuracy: 0.4744 - val_loss: 0.7239 - val_accuracy: 0.1528\n",
      "Epoch 2/12\n",
      "45/45 [==============================] - 2s 42ms/step - loss: 0.6736 - accuracy: 0.6514 - val_loss: 0.7909 - val_accuracy: 0.1521\n",
      "Epoch 3/12\n",
      "45/45 [==============================] - 2s 42ms/step - loss: 0.6488 - accuracy: 0.6516 - val_loss: 0.9769 - val_accuracy: 0.1521\n",
      "Epoch 4/12\n",
      "45/45 [==============================] - 2s 43ms/step - loss: 0.6297 - accuracy: 0.6530 - val_loss: 0.9133 - val_accuracy: 0.1534\n",
      "Epoch 5/12\n",
      "45/45 [==============================] - 2s 41ms/step - loss: 0.5680 - accuracy: 0.6901 - val_loss: 0.8551 - val_accuracy: 0.2699\n",
      "Epoch 6/12\n",
      "45/45 [==============================] - 2s 40ms/step - loss: 0.4875 - accuracy: 0.7578 - val_loss: 0.9230 - val_accuracy: 0.3264\n",
      "Epoch 7/12\n",
      "45/45 [==============================] - 2s 41ms/step - loss: 0.4369 - accuracy: 0.8024 - val_loss: 0.7068 - val_accuracy: 0.5384\n",
      "Epoch 8/12\n",
      "45/45 [==============================] - 2s 41ms/step - loss: 0.4162 - accuracy: 0.8091 - val_loss: 0.8214 - val_accuracy: 0.4401\n",
      "Epoch 9/12\n",
      "45/45 [==============================] - 2s 41ms/step - loss: 0.3959 - accuracy: 0.8210 - val_loss: 0.7868 - val_accuracy: 0.4886\n",
      "Epoch 10/12\n",
      "45/45 [==============================] - 2s 41ms/step - loss: 0.3677 - accuracy: 0.8373 - val_loss: 0.7521 - val_accuracy: 0.5424\n",
      "Epoch 11/12\n",
      "45/45 [==============================] - 2s 43ms/step - loss: 0.3706 - accuracy: 0.8462 - val_loss: 0.6909 - val_accuracy: 0.6144\n",
      "Epoch 12/12\n",
      "45/45 [==============================] - 2s 41ms/step - loss: 0.3610 - accuracy: 0.8500 - val_loss: 1.0080 - val_accuracy: 0.3883\n",
      "47/47 [==============================] - 0s 5ms/step - loss: 1.0080 - accuracy: 0.3883\n"
     ]
    }
   ],
   "source": [
    "accuracy=[]\n",
    "for train_index, val_index in gkf.split(data_array, label_array, groups=group_array):\n",
    "    train_features,train_labels=data_array[train_index],label_array[train_index]\n",
    "    val_features,val_labels=data_array[val_index],label_array[val_index]\n",
    "    scaler=StandardScaler()\n",
    "    train_features = scaler.fit_transform(train_features.reshape(-1, train_features.shape[-1])).reshape(train_features.shape)\n",
    "    val_features = scaler.transform(val_features.reshape(-1, val_features.shape[-1])).reshape(val_features.shape)\n",
    "    model=cnnmodel()\n",
    "    model.fit(train_features,train_labels,epochs=12,batch_size=128,validation_data=(val_features,val_labels))\n",
    "    accuracy.append(model.evaluate(val_features,val_labels)[1])\n",
    "    "
   ]
  },
  {
   "cell_type": "code",
   "execution_count": 66,
   "id": "fff4d745",
   "metadata": {},
   "outputs": [
    {
     "data": {
      "text/plain": [
       "0.6071841776371002"
      ]
     },
     "execution_count": 66,
     "metadata": {},
     "output_type": "execute_result"
    }
   ],
   "source": [
    "np.mean(accuracy)"
   ]
  },
  {
   "cell_type": "code",
   "execution_count": null,
   "id": "bb350208",
   "metadata": {},
   "outputs": [],
   "source": []
  }
 ],
 "metadata": {
  "kernelspec": {
   "display_name": "Python 3 (ipykernel)",
   "language": "python",
   "name": "python3"
  },
  "language_info": {
   "codemirror_mode": {
    "name": "ipython",
    "version": 3
   },
   "file_extension": ".py",
   "mimetype": "text/x-python",
   "name": "python",
   "nbconvert_exporter": "python",
   "pygments_lexer": "ipython3",
   "version": "3.9.7"
  }
 },
 "nbformat": 4,
 "nbformat_minor": 5
}
